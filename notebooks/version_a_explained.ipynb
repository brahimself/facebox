{
  "cells": [
    {
      "cell_type": "markdown",
      "metadata": {},
      "source": [
        "# FaceBox - Version A\n",
        "This notebook explains the basic face detection method using OpenCV's Haar cascades, as implemented in Version A of the FaceBox project."
      ]
    },
    {
      "cell_type": "markdown",
      "metadata": {},
      "source": [
        "## How It Works\n",
        "1. Capture video from the webcam\n",
        "2. Convert each frame to grayscale\n",
        "3. Use a pre-trained Haar cascade to detect faces\n",
        "4. Draw ellipses around detected faces\n",
        "5. Repeat until ESC key is pressed"
      ]
    },
    {
      "cell_type": "code",
      "execution_count": null,
      "metadata": {},
      "outputs": [],
      "source": [
        "import cv2\n",
        "face_cascade = cv2.CascadeClassifier('haarcascade_frontalface_default.xml')\n",
        "cap = cv2.VideoCapture(0)\n",
        "while True:\n",
        "    ret, frame = cap.read()\n",
        "    gray = cv2.cvtColor(frame, cv2.COLOR_BGR2GRAY)\n",
        "    faces = face_cascade.detectMultiScale(gray)\n",
        "    for (x, y, w, h) in faces:\n",
        "        center = (x + w//2, y + h//2)\n",
        "        frame = cv2.ellipse(frame, center, (w//2, h//2), 0, 0, 360, (255, 0, 255), 4)\n",
        "    cv2.imshow('Face detection', frame)\n",
        "    if cv2.waitKey(10) == 27:\n",
        "        break"
      ]
    }
  ],
  "metadata": {
    "kernelspec": {
      "display_name": "Python 3",
      "language": "python",
      "name": "python3"
    },
    "language_info": {
      "name": "python",
      "version": "3.10"
    }
  },
  "nbformat": 4,
  "nbformat_minor": 5
}